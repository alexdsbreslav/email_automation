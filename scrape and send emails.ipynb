{
 "cells": [
  {
   "cell_type": "markdown",
   "metadata": {},
   "source": [
    "First - two things need to happen with you email.\n",
    "1. Allow less secure access to gmail (just search \"less secure\" in settings\n",
    "2. Go to forwarding in Gmail settings and enable IMAP"
   ]
  },
  {
   "cell_type": "code",
   "execution_count": 1,
   "metadata": {},
   "outputs": [],
   "source": [
    "import smtplib\n",
    "import imaplib\n",
    "import time\n",
    "import email\n",
    "import pandas as pd\n",
    "import datetime\n",
    "import os\n",
    "\n",
    "# need these to send emails\n",
    "from email.mime.multipart import MIMEMultipart\n",
    "from email.mime.text import MIMEText\n",
    "from email.mime.image import MIMEImage"
   ]
  },
  {
   "cell_type": "code",
   "execution_count": 2,
   "metadata": {},
   "outputs": [],
   "source": [
    "login_email  = \"your email\"\n",
    "login_password = \"your password\"\n",
    "imap_ssl = \"\" # e.g. imap.gmail.com\n",
    "smtp_ssl = \"\" # e.g. smtp.gmail.com"
   ]
  },
  {
   "cell_type": "code",
   "execution_count": 3,
   "metadata": {},
   "outputs": [],
   "source": [
    "# login into email server and select inbox\n",
    "mail = imaplib.IMAP4_SSL(imap_ssl)\n",
    "mail.login(login_email,login_password)\n",
    "mail.select('inbox')\n",
    "\n",
    "# get list of email ids\n",
    "typ, data = mail.search(None, 'ALL')\n",
    "mail_ids = data[0]\n",
    "id_list = mail_ids.split()"
   ]
  },
  {
   "cell_type": "code",
   "execution_count": 4,
   "metadata": {},
   "outputs": [],
   "source": [
    "def get_email_type(email_subject):\n",
    "    if 'Sign-Up' in email_subject:\n",
    "        return('sign_up')\n",
    "    elif 'Cancellation' in email_subject:\n",
    "        return('cancel')\n",
    "    else:\n",
    "        return('other')"
   ]
  },
  {
   "cell_type": "code",
   "execution_count": 5,
   "metadata": {},
   "outputs": [],
   "source": [
    "def get_name_email_from_SONA(body_text, email_type):\n",
    "    start = body_text.find('The participant ') + len('The participant ')\n",
    "    \n",
    "    if email_type == 'sign_up':\n",
    "        end = body_text.find(' signed up for the study')\n",
    "    elif email_type == 'cancel':\n",
    "        end = body_text.find(' cancelled his/her sign-up for the study')\n",
    "    else:\n",
    "        raise Exception('Function only works for sign-ups and cancellations')\n",
    "    \n",
    "    return(body_text[start:end].split(' '))"
   ]
  },
  {
   "cell_type": "code",
   "execution_count": 6,
   "metadata": {},
   "outputs": [],
   "source": [
    "def get_timeslot_from_SONA(body_text):\n",
    "    start = body_text.find('to take place on ') + len('to take place on ')\n",
    "    end = body_text.find(' in the location')\n",
    "    \n",
    "    month_dict = {'January':1, 'February':2, 'March':3, 'April':4, 'May':5, 'June':6, \n",
    "              'July':7, 'August':8, 'September':9, 'October':10, 'November':11, 'December':12}\n",
    "    \n",
    "    timeslot = body_text[start:end].split(' ')\n",
    "    \n",
    "    date = datetime.date(year = int(timeslot[3]), month = month_dict[timeslot[1]], day = int(timeslot[2].strip(',')))\n",
    "    start_time = datetime.datetime.strptime(timeslot[4] + timeslot[5], '%I:%M%p').time()\n",
    "    end_time = datetime.datetime.strptime(timeslot[-2] + timeslot[-1], '%I:%M%p').time()\n",
    "    \n",
    "    return(date, start_time, end_time)"
   ]
  },
  {
   "cell_type": "code",
   "execution_count": 7,
   "metadata": {},
   "outputs": [],
   "source": [
    "# what text is in the subject that will indicate it is the study you are looking for\n",
    "study_indicator = 'Part 2 of 2 Strategy Game'\n",
    "\n",
    "cols = {'email_type':[], 'first_name':[], 'last_name':[], 'email':[],\n",
    "       'date':[], 'start_time':[], 'end_time':[]}\n",
    "\n",
    "# go through the emails\n",
    "for ids in id_list:\n",
    "    typ, data = mail.fetch(ids, '(RFC822)')\n",
    "\n",
    "    # go through the parts of the email\n",
    "    for response_part in data:\n",
    "        if isinstance(response_part, tuple):\n",
    "            msg = email.message_from_bytes(response_part[1])\n",
    "            if study_indicator in msg['subject']:\n",
    "                cols['email_type'].append(get_email_type(msg['subject']))\n",
    "                \n",
    "                name_email = get_name_email_from_SONA(msg.get_payload(decode=True).decode('utf-8'), cols['email_type'][-1])\n",
    "                cols['first_name'].append(name_email[0])\n",
    "                cols['last_name'].append(name_email[1])\n",
    "                cols['email'].append(name_email[2].strip('<>'))\n",
    "                \n",
    "                date, start_time, end_time = get_timeslot_from_SONA(msg.get_payload(decode=True).decode('utf-8'))\n",
    "                cols['date'].append(date)\n",
    "                cols['start_time'].append(start_time)\n",
    "                cols['end_time'].append(end_time)"
   ]
  },
  {
   "cell_type": "code",
   "execution_count": 8,
   "metadata": {},
   "outputs": [],
   "source": [
    "df = pd.DataFrame(cols)[['email_type', 'date', 'start_time', 'end_time', 'first_name', 'last_name', 'email']]"
   ]
  },
  {
   "cell_type": "markdown",
   "metadata": {},
   "source": [
    "I've successfully scraped my gmail to get the emails of those that have signed up for my study. These are all emails that SONA sends automatically.\n",
    "\n",
    "Now the question is, can I take these names/emails and insert them into a formatted email."
   ]
  },
  {
   "cell_type": "markdown",
   "metadata": {},
   "source": [
    "embedding the images and new data got a bit tricky.  \n",
    "- I had to add \"cid:\" prior to all of the image source indicators in the html file.\n",
    "- I had to change all of the single braces other than those enclosing name, datem, and time to double braces"
   ]
  },
  {
   "cell_type": "code",
   "execution_count": 38,
   "metadata": {},
   "outputs": [],
   "source": [
    "def send_reminder_email(login_email, login_password, from_display_name, to_email, subject, email_template, name, time, date):\n",
    "    # Create message container - the correct MIME type is multipart/alternative.\n",
    "    msg = MIMEMultipart('alternative')\n",
    "    msg['Subject'] = subject\n",
    "    msg['From'] = from_display_name\n",
    "    msg['To'] = to_email\n",
    "    \n",
    "    with open('email_template.html', 'r') as f:\n",
    "        email_template = f.read()\n",
    "    html = email_template.format(name = name, time = time, date = date)\n",
    "    \n",
    "    part2 = MIMEText(html, 'html')\n",
    "    msg.attach(part2)\n",
    "    \n",
    "    # attach the immages\n",
    "    for i in [i for i in os.listdir('./images') if '.png' in i]:\n",
    "        fp = open('./images/' + i, 'rb')\n",
    "        msg_image = MIMEImage(fp.read())\n",
    "        fp.close()\n",
    "\n",
    "        msg_image.add_header('Content-ID', '<images/' + i + '>')\n",
    "        msg.attach(msg_image)\n",
    "\n",
    "    # set up the SMTP server\n",
    "    s = smtplib.SMTP_SSL(smtp_ssl)\n",
    "    s.login(login_email, login_password)\n",
    "\n",
    "    # sendmail function takes 3 arguments: sender's address, recipient's address\n",
    "    # and message to send - here it is sent as one string.\n",
    "    s.sendmail(from_email, to_email, msg.as_string())\n",
    "    s.quit()\n",
    "    print('email sent to ' + to_email)"
   ]
  },
  {
   "cell_type": "code",
   "execution_count": 39,
   "metadata": {},
   "outputs": [
    {
     "name": "stdout",
     "output_type": "stream",
     "text": [
      "email sent to alexdsbreslav@gmail.com\n"
     ]
    }
   ],
   "source": [
    "send_reminder_email(\n",
    "login_email = login_email,\n",
    "login_password = login_password,\n",
    "from_display_name = 'Duke Decision Research',\n",
    "to_email = \"alexdsbreslav@gmail.com\",\n",
    "subject = \"Personal Study Reminder: Part 2 of 2 Strategy Game for Food and Money\",\n",
    "email_template = email_template,\n",
    "name = 'Alex',\n",
    "time = df.start_time[1].strftime(\"%I:%M %p\"),\n",
    "date = df.date[1].strftime('%A, %B %d'))"
   ]
  },
  {
   "cell_type": "code",
   "execution_count": null,
   "metadata": {},
   "outputs": [],
   "source": []
  }
 ],
 "metadata": {
  "kernelspec": {
   "display_name": "Python [default]",
   "language": "python",
   "name": "python3"
  },
  "language_info": {
   "codemirror_mode": {
    "name": "ipython",
    "version": 3
   },
   "file_extension": ".py",
   "mimetype": "text/x-python",
   "name": "python",
   "nbconvert_exporter": "python",
   "pygments_lexer": "ipython3",
   "version": "3.5.6"
  }
 },
 "nbformat": 4,
 "nbformat_minor": 2
}
